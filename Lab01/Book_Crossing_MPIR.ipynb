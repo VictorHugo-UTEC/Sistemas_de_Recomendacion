{
  "nbformat": 4,
  "nbformat_minor": 0,
  "metadata": {
    "colab": {
      "provenance": [],
      "include_colab_link": true
    },
    "kernelspec": {
      "name": "python3",
      "display_name": "Python 3"
    },
    "language_info": {
      "name": "python"
    }
  },
  "cells": [
    {
      "cell_type": "markdown",
      "metadata": {
        "id": "view-in-github",
        "colab_type": "text"
      },
      "source": [
        "<a href=\"https://colab.research.google.com/github/VictorHugo-UTEC/Sistemas_de_Recomendacion/blob/main/Lab01/Book_Crossing_MPIR.ipynb\" target=\"_parent\"><img src=\"https://colab.research.google.com/assets/colab-badge.svg\" alt=\"Open In Colab\"/></a>"
      ]
    },
    {
      "cell_type": "markdown",
      "source": [
        "\n",
        "<h1 align=center><font size = 5> Most-popular-item Recommender</font></h1>\n",
        "\n",
        "---"
      ],
      "metadata": {
        "id": "xojo8Uolpezq"
      }
    },
    {
      "cell_type": "markdown",
      "source": [
        "<center>\n",
        "  <img src=\"https://storage.googleapis.com/kaggle-datasets-images/1661575/2726067/684ac0c4c14cb46d1047ccb620b45cac/dataset-cover.jpg?t=2021-10-21-03-18-09\" width=\"800\" height=\"300\">\n",
        "</center>\n"
      ],
      "metadata": {
        "id": "N8k0D4hUpQtd"
      }
    },
    {
      "cell_type": "markdown",
      "source": [
        "## Objetivo de este Notebook\n",
        "\n",
        "1. Cargar y preprocesar un Dataset.\n",
        "2. Realizar un sistema de recomendación basado en MPIR.\n",
        "3. Comprobar el performance del sistema."
      ],
      "metadata": {
        "id": "8FbV_eL8qMhx"
      }
    },
    {
      "cell_type": "markdown",
      "source": [
        "## Tabla de Contenidos\n",
        "\n",
        "<div class=\"alert alert-block alert-info\" style=\"margin-top: 20px\">\n",
        "\n",
        "<font size = 3>\n",
        "    \n",
        "1. <a href=\"#item31\">Contexto</a>  \n",
        "2. <a href=\"#item32\">Descargar y preparar el Dataset</a>  \n",
        "3. <a href=\"#item33\">Pre-selección de variables</a>  \n",
        "4. <a href=\"#item34\">Tratamiento de variables categóricas</a>  \n",
        "5. <a href=\"#item34\">Tratamiento de variables numéricas</a>  \n",
        "6. <a href=\"#item34\">Entrenamiento del modelo</a>  \n",
        "\n",
        "</font>\n",
        "</div>"
      ],
      "metadata": {
        "id": "fwc_GHBnvBdo"
      }
    },
    {
      "cell_type": "markdown",
      "source": [
        "## 1. Contexto"
      ],
      "metadata": {
        "id": "1ClPvzs6qk8D"
      }
    },
    {
      "cell_type": "markdown",
      "source": [
        "\n",
        "El conjunto de datos \"Book-Crossing\" (también conocido como BX) es una colección de datos relacionados con libros y reseñas de libros. Este conjunto de datos se centra en la interacción de los usuarios con libros y sus calificaciones, y es ampliamente utilizado en aplicaciones de sistemas de recomendación.\n"
      ],
      "metadata": {
        "id": "wOY_1u5Bq6Kz"
      }
    },
    {
      "cell_type": "markdown",
      "source": [
        "\n",
        "<b>Descripción de datos</b>\n",
        "\n",
        "---\n",
        "\n",
        "El conjunto de datos Book-Crossing contiene información sobre:\n",
        "\n",
        "* <b>Libros:</b> Información sobre los libros, incluyendo su título, autor y año de publicación.\n",
        "\n",
        "* <b>Usuarios:</b> Perfiles de los usuarios que interactúan con los libros, incluyendo su ID y ubicación.\n",
        "\n",
        "* <b>Calificaciones:</b> Calificaciones numéricas que los usuarios asignan a los libros que han leído.\n",
        "\n",
        "El conjunto de datos puede ser utilizado para varios propósitos, como la construcción de sistemas de recomendación de libros, el análisis de patrones de lectura y preferencias de los usuarios, y la investigación en el campo de la minería de datos y la inteligencia artificial.\n",
        "\n",
        "---\n",
        "\n",
        "\n",
        "\n",
        "<strong>Puede consultar este [link](https://www.kaggle.com/datasets/syedjaferk/book-crossing-dataset) para leer más sobre la fuente de datos Automobile Loan Default.</strong>\n"
      ],
      "metadata": {
        "id": "uiYshhXFrHiC"
      }
    },
    {
      "cell_type": "markdown",
      "source": [
        "## 2. Descargar y preparar Dataset"
      ],
      "metadata": {
        "id": "6XVvIx3sr_Q0"
      }
    },
    {
      "cell_type": "code",
      "execution_count": 1,
      "metadata": {
        "id": "sPs_w8bcU1bm"
      },
      "outputs": [],
      "source": [
        "# Principales librerías\n",
        "import pandas as pd\n",
        "import numpy as np\n",
        "\n",
        "import seaborn as sns\n",
        "import matplotlib.pyplot as plt\n",
        "\n",
        "import warnings\n",
        "warnings.filterwarnings(\"ignore\") # Turn off warnings\n"
      ]
    },
    {
      "cell_type": "code",
      "source": [
        "# Download Book-Crossing Dataset\n",
        "#!curl -o dataset.zip \"http://www2.informatik.uni-freiburg.de/~cziegler/BX/BX-CSV-Dump.zip\"\n",
        "#!unzip dataset.zip\n",
        "#!ls -l"
      ],
      "metadata": {
        "id": "LafAtjJJfE_A"
      },
      "execution_count": null,
      "outputs": []
    },
    {
      "cell_type": "code",
      "source": [
        "ratings = pd.read_csv(\"BX-Book-Ratings.csv\", sep=\";\", encoding=\"ISO-8859-1\")\n",
        "books   = pd.read_csv(\"BX-Books.csv\",        sep=\";\", encoding=\"ISO-8859-1\", error_bad_lines=False)\n",
        "users   = pd.read_csv(\"BX-Users.csv\",        sep=\";\", encoding=\"ISO-8859-1\")"
      ],
      "metadata": {
        "id": "w0HCRfqUXp9J",
        "colab": {
          "base_uri": "https://localhost:8080/"
        },
        "outputId": "3ff62406-6eda-4c2a-8074-0c8224c2184e"
      },
      "execution_count": 4,
      "outputs": [
        {
          "output_type": "stream",
          "name": "stderr",
          "text": [
            "Skipping line 6452: expected 8 fields, saw 9\n",
            "Skipping line 43667: expected 8 fields, saw 10\n",
            "Skipping line 51751: expected 8 fields, saw 9\n",
            "\n",
            "Skipping line 92038: expected 8 fields, saw 9\n",
            "Skipping line 104319: expected 8 fields, saw 9\n",
            "Skipping line 121768: expected 8 fields, saw 9\n",
            "\n",
            "Skipping line 144058: expected 8 fields, saw 9\n",
            "Skipping line 150789: expected 8 fields, saw 9\n",
            "Skipping line 157128: expected 8 fields, saw 9\n",
            "Skipping line 180189: expected 8 fields, saw 9\n",
            "Skipping line 185738: expected 8 fields, saw 9\n",
            "\n",
            "Skipping line 209388: expected 8 fields, saw 9\n",
            "Skipping line 220626: expected 8 fields, saw 9\n",
            "Skipping line 227933: expected 8 fields, saw 11\n",
            "Skipping line 228957: expected 8 fields, saw 10\n",
            "Skipping line 245933: expected 8 fields, saw 9\n",
            "Skipping line 251296: expected 8 fields, saw 9\n",
            "Skipping line 259941: expected 8 fields, saw 9\n",
            "Skipping line 261529: expected 8 fields, saw 9\n",
            "\n"
          ]
        }
      ]
    },
    {
      "cell_type": "code",
      "source": [
        "users.head()"
      ],
      "metadata": {
        "id": "ofXHH-qra7xZ",
        "colab": {
          "base_uri": "https://localhost:8080/",
          "height": 206
        },
        "outputId": "f5821d16-4f99-4882-9351-a0044f14c718"
      },
      "execution_count": 5,
      "outputs": [
        {
          "output_type": "execute_result",
          "data": {
            "text/plain": [
              "   User-ID                            Location   Age\n",
              "0        1                  nyc, new york, usa   NaN\n",
              "1        2           stockton, california, usa  18.0\n",
              "2        3     moscow, yukon territory, russia   NaN\n",
              "3        4           porto, v.n.gaia, portugal  17.0\n",
              "4        5  farnborough, hants, united kingdom   NaN"
            ],
            "text/html": [
              "\n",
              "  <div id=\"df-d2a8acd6-722d-4d2d-b54e-94f7a237a389\" class=\"colab-df-container\">\n",
              "    <div>\n",
              "<style scoped>\n",
              "    .dataframe tbody tr th:only-of-type {\n",
              "        vertical-align: middle;\n",
              "    }\n",
              "\n",
              "    .dataframe tbody tr th {\n",
              "        vertical-align: top;\n",
              "    }\n",
              "\n",
              "    .dataframe thead th {\n",
              "        text-align: right;\n",
              "    }\n",
              "</style>\n",
              "<table border=\"1\" class=\"dataframe\">\n",
              "  <thead>\n",
              "    <tr style=\"text-align: right;\">\n",
              "      <th></th>\n",
              "      <th>User-ID</th>\n",
              "      <th>Location</th>\n",
              "      <th>Age</th>\n",
              "    </tr>\n",
              "  </thead>\n",
              "  <tbody>\n",
              "    <tr>\n",
              "      <th>0</th>\n",
              "      <td>1</td>\n",
              "      <td>nyc, new york, usa</td>\n",
              "      <td>NaN</td>\n",
              "    </tr>\n",
              "    <tr>\n",
              "      <th>1</th>\n",
              "      <td>2</td>\n",
              "      <td>stockton, california, usa</td>\n",
              "      <td>18.0</td>\n",
              "    </tr>\n",
              "    <tr>\n",
              "      <th>2</th>\n",
              "      <td>3</td>\n",
              "      <td>moscow, yukon territory, russia</td>\n",
              "      <td>NaN</td>\n",
              "    </tr>\n",
              "    <tr>\n",
              "      <th>3</th>\n",
              "      <td>4</td>\n",
              "      <td>porto, v.n.gaia, portugal</td>\n",
              "      <td>17.0</td>\n",
              "    </tr>\n",
              "    <tr>\n",
              "      <th>4</th>\n",
              "      <td>5</td>\n",
              "      <td>farnborough, hants, united kingdom</td>\n",
              "      <td>NaN</td>\n",
              "    </tr>\n",
              "  </tbody>\n",
              "</table>\n",
              "</div>\n",
              "    <div class=\"colab-df-buttons\">\n",
              "\n",
              "  <div class=\"colab-df-container\">\n",
              "    <button class=\"colab-df-convert\" onclick=\"convertToInteractive('df-d2a8acd6-722d-4d2d-b54e-94f7a237a389')\"\n",
              "            title=\"Convert this dataframe to an interactive table.\"\n",
              "            style=\"display:none;\">\n",
              "\n",
              "  <svg xmlns=\"http://www.w3.org/2000/svg\" height=\"24px\" viewBox=\"0 -960 960 960\">\n",
              "    <path d=\"M120-120v-720h720v720H120Zm60-500h600v-160H180v160Zm220 220h160v-160H400v160Zm0 220h160v-160H400v160ZM180-400h160v-160H180v160Zm440 0h160v-160H620v160ZM180-180h160v-160H180v160Zm440 0h160v-160H620v160Z\"/>\n",
              "  </svg>\n",
              "    </button>\n",
              "\n",
              "  <style>\n",
              "    .colab-df-container {\n",
              "      display:flex;\n",
              "      gap: 12px;\n",
              "    }\n",
              "\n",
              "    .colab-df-convert {\n",
              "      background-color: #E8F0FE;\n",
              "      border: none;\n",
              "      border-radius: 50%;\n",
              "      cursor: pointer;\n",
              "      display: none;\n",
              "      fill: #1967D2;\n",
              "      height: 32px;\n",
              "      padding: 0 0 0 0;\n",
              "      width: 32px;\n",
              "    }\n",
              "\n",
              "    .colab-df-convert:hover {\n",
              "      background-color: #E2EBFA;\n",
              "      box-shadow: 0px 1px 2px rgba(60, 64, 67, 0.3), 0px 1px 3px 1px rgba(60, 64, 67, 0.15);\n",
              "      fill: #174EA6;\n",
              "    }\n",
              "\n",
              "    .colab-df-buttons div {\n",
              "      margin-bottom: 4px;\n",
              "    }\n",
              "\n",
              "    [theme=dark] .colab-df-convert {\n",
              "      background-color: #3B4455;\n",
              "      fill: #D2E3FC;\n",
              "    }\n",
              "\n",
              "    [theme=dark] .colab-df-convert:hover {\n",
              "      background-color: #434B5C;\n",
              "      box-shadow: 0px 1px 3px 1px rgba(0, 0, 0, 0.15);\n",
              "      filter: drop-shadow(0px 1px 2px rgba(0, 0, 0, 0.3));\n",
              "      fill: #FFFFFF;\n",
              "    }\n",
              "  </style>\n",
              "\n",
              "    <script>\n",
              "      const buttonEl =\n",
              "        document.querySelector('#df-d2a8acd6-722d-4d2d-b54e-94f7a237a389 button.colab-df-convert');\n",
              "      buttonEl.style.display =\n",
              "        google.colab.kernel.accessAllowed ? 'block' : 'none';\n",
              "\n",
              "      async function convertToInteractive(key) {\n",
              "        const element = document.querySelector('#df-d2a8acd6-722d-4d2d-b54e-94f7a237a389');\n",
              "        const dataTable =\n",
              "          await google.colab.kernel.invokeFunction('convertToInteractive',\n",
              "                                                    [key], {});\n",
              "        if (!dataTable) return;\n",
              "\n",
              "        const docLinkHtml = 'Like what you see? Visit the ' +\n",
              "          '<a target=\"_blank\" href=https://colab.research.google.com/notebooks/data_table.ipynb>data table notebook</a>'\n",
              "          + ' to learn more about interactive tables.';\n",
              "        element.innerHTML = '';\n",
              "        dataTable['output_type'] = 'display_data';\n",
              "        await google.colab.output.renderOutput(dataTable, element);\n",
              "        const docLink = document.createElement('div');\n",
              "        docLink.innerHTML = docLinkHtml;\n",
              "        element.appendChild(docLink);\n",
              "      }\n",
              "    </script>\n",
              "  </div>\n",
              "\n",
              "\n",
              "<div id=\"df-b326a762-7378-4bb5-9dee-acf2f188c26e\">\n",
              "  <button class=\"colab-df-quickchart\" onclick=\"quickchart('df-b326a762-7378-4bb5-9dee-acf2f188c26e')\"\n",
              "            title=\"Suggest charts.\"\n",
              "            style=\"display:none;\">\n",
              "\n",
              "<svg xmlns=\"http://www.w3.org/2000/svg\" height=\"24px\"viewBox=\"0 0 24 24\"\n",
              "     width=\"24px\">\n",
              "    <g>\n",
              "        <path d=\"M19 3H5c-1.1 0-2 .9-2 2v14c0 1.1.9 2 2 2h14c1.1 0 2-.9 2-2V5c0-1.1-.9-2-2-2zM9 17H7v-7h2v7zm4 0h-2V7h2v10zm4 0h-2v-4h2v4z\"/>\n",
              "    </g>\n",
              "</svg>\n",
              "  </button>\n",
              "\n",
              "<style>\n",
              "  .colab-df-quickchart {\n",
              "    background-color: #E8F0FE;\n",
              "    border: none;\n",
              "    border-radius: 50%;\n",
              "    cursor: pointer;\n",
              "    display: none;\n",
              "    fill: #1967D2;\n",
              "    height: 32px;\n",
              "    padding: 0 0 0 0;\n",
              "    width: 32px;\n",
              "  }\n",
              "\n",
              "  .colab-df-quickchart:hover {\n",
              "    background-color: #E2EBFA;\n",
              "    box-shadow: 0px 1px 2px rgba(60, 64, 67, 0.3), 0px 1px 3px 1px rgba(60, 64, 67, 0.15);\n",
              "    fill: #174EA6;\n",
              "  }\n",
              "\n",
              "  [theme=dark] .colab-df-quickchart {\n",
              "    background-color: #3B4455;\n",
              "    fill: #D2E3FC;\n",
              "  }\n",
              "\n",
              "  [theme=dark] .colab-df-quickchart:hover {\n",
              "    background-color: #434B5C;\n",
              "    box-shadow: 0px 1px 3px 1px rgba(0, 0, 0, 0.15);\n",
              "    filter: drop-shadow(0px 1px 2px rgba(0, 0, 0, 0.3));\n",
              "    fill: #FFFFFF;\n",
              "  }\n",
              "</style>\n",
              "\n",
              "  <script>\n",
              "    async function quickchart(key) {\n",
              "      const charts = await google.colab.kernel.invokeFunction(\n",
              "          'suggestCharts', [key], {});\n",
              "    }\n",
              "    (() => {\n",
              "      let quickchartButtonEl =\n",
              "        document.querySelector('#df-b326a762-7378-4bb5-9dee-acf2f188c26e button');\n",
              "      quickchartButtonEl.style.display =\n",
              "        google.colab.kernel.accessAllowed ? 'block' : 'none';\n",
              "    })();\n",
              "  </script>\n",
              "</div>\n",
              "    </div>\n",
              "  </div>\n"
            ]
          },
          "metadata": {},
          "execution_count": 5
        }
      ]
    },
    {
      "cell_type": "code",
      "source": [
        "books.head()"
      ],
      "metadata": {
        "id": "oV10YeKpbCJ2",
        "colab": {
          "base_uri": "https://localhost:8080/",
          "height": 434
        },
        "outputId": "c2e55904-bb97-4ffe-e079-974c93ba42b4"
      },
      "execution_count": 6,
      "outputs": [
        {
          "output_type": "execute_result",
          "data": {
            "text/plain": [
              "         ISBN                                         Book-Title  \\\n",
              "0  0195153448                                Classical Mythology   \n",
              "1  0002005018                                       Clara Callan   \n",
              "2  0060973129                               Decision in Normandy   \n",
              "3  0374157065  Flu: The Story of the Great Influenza Pandemic...   \n",
              "4  0393045218                             The Mummies of Urumchi   \n",
              "\n",
              "            Book-Author Year-Of-Publication                   Publisher  \\\n",
              "0    Mark P. O. Morford                2002     Oxford University Press   \n",
              "1  Richard Bruce Wright                2001       HarperFlamingo Canada   \n",
              "2          Carlo D'Este                1991             HarperPerennial   \n",
              "3      Gina Bari Kolata                1999        Farrar Straus Giroux   \n",
              "4       E. J. W. Barber                1999  W. W. Norton &amp; Company   \n",
              "\n",
              "                                         Image-URL-S  \\\n",
              "0  http://images.amazon.com/images/P/0195153448.0...   \n",
              "1  http://images.amazon.com/images/P/0002005018.0...   \n",
              "2  http://images.amazon.com/images/P/0060973129.0...   \n",
              "3  http://images.amazon.com/images/P/0374157065.0...   \n",
              "4  http://images.amazon.com/images/P/0393045218.0...   \n",
              "\n",
              "                                         Image-URL-M  \\\n",
              "0  http://images.amazon.com/images/P/0195153448.0...   \n",
              "1  http://images.amazon.com/images/P/0002005018.0...   \n",
              "2  http://images.amazon.com/images/P/0060973129.0...   \n",
              "3  http://images.amazon.com/images/P/0374157065.0...   \n",
              "4  http://images.amazon.com/images/P/0393045218.0...   \n",
              "\n",
              "                                         Image-URL-L  \n",
              "0  http://images.amazon.com/images/P/0195153448.0...  \n",
              "1  http://images.amazon.com/images/P/0002005018.0...  \n",
              "2  http://images.amazon.com/images/P/0060973129.0...  \n",
              "3  http://images.amazon.com/images/P/0374157065.0...  \n",
              "4  http://images.amazon.com/images/P/0393045218.0...  "
            ],
            "text/html": [
              "\n",
              "  <div id=\"df-b90d4aff-e9ca-490e-b06f-21a3bff59030\" class=\"colab-df-container\">\n",
              "    <div>\n",
              "<style scoped>\n",
              "    .dataframe tbody tr th:only-of-type {\n",
              "        vertical-align: middle;\n",
              "    }\n",
              "\n",
              "    .dataframe tbody tr th {\n",
              "        vertical-align: top;\n",
              "    }\n",
              "\n",
              "    .dataframe thead th {\n",
              "        text-align: right;\n",
              "    }\n",
              "</style>\n",
              "<table border=\"1\" class=\"dataframe\">\n",
              "  <thead>\n",
              "    <tr style=\"text-align: right;\">\n",
              "      <th></th>\n",
              "      <th>ISBN</th>\n",
              "      <th>Book-Title</th>\n",
              "      <th>Book-Author</th>\n",
              "      <th>Year-Of-Publication</th>\n",
              "      <th>Publisher</th>\n",
              "      <th>Image-URL-S</th>\n",
              "      <th>Image-URL-M</th>\n",
              "      <th>Image-URL-L</th>\n",
              "    </tr>\n",
              "  </thead>\n",
              "  <tbody>\n",
              "    <tr>\n",
              "      <th>0</th>\n",
              "      <td>0195153448</td>\n",
              "      <td>Classical Mythology</td>\n",
              "      <td>Mark P. O. Morford</td>\n",
              "      <td>2002</td>\n",
              "      <td>Oxford University Press</td>\n",
              "      <td>http://images.amazon.com/images/P/0195153448.0...</td>\n",
              "      <td>http://images.amazon.com/images/P/0195153448.0...</td>\n",
              "      <td>http://images.amazon.com/images/P/0195153448.0...</td>\n",
              "    </tr>\n",
              "    <tr>\n",
              "      <th>1</th>\n",
              "      <td>0002005018</td>\n",
              "      <td>Clara Callan</td>\n",
              "      <td>Richard Bruce Wright</td>\n",
              "      <td>2001</td>\n",
              "      <td>HarperFlamingo Canada</td>\n",
              "      <td>http://images.amazon.com/images/P/0002005018.0...</td>\n",
              "      <td>http://images.amazon.com/images/P/0002005018.0...</td>\n",
              "      <td>http://images.amazon.com/images/P/0002005018.0...</td>\n",
              "    </tr>\n",
              "    <tr>\n",
              "      <th>2</th>\n",
              "      <td>0060973129</td>\n",
              "      <td>Decision in Normandy</td>\n",
              "      <td>Carlo D'Este</td>\n",
              "      <td>1991</td>\n",
              "      <td>HarperPerennial</td>\n",
              "      <td>http://images.amazon.com/images/P/0060973129.0...</td>\n",
              "      <td>http://images.amazon.com/images/P/0060973129.0...</td>\n",
              "      <td>http://images.amazon.com/images/P/0060973129.0...</td>\n",
              "    </tr>\n",
              "    <tr>\n",
              "      <th>3</th>\n",
              "      <td>0374157065</td>\n",
              "      <td>Flu: The Story of the Great Influenza Pandemic...</td>\n",
              "      <td>Gina Bari Kolata</td>\n",
              "      <td>1999</td>\n",
              "      <td>Farrar Straus Giroux</td>\n",
              "      <td>http://images.amazon.com/images/P/0374157065.0...</td>\n",
              "      <td>http://images.amazon.com/images/P/0374157065.0...</td>\n",
              "      <td>http://images.amazon.com/images/P/0374157065.0...</td>\n",
              "    </tr>\n",
              "    <tr>\n",
              "      <th>4</th>\n",
              "      <td>0393045218</td>\n",
              "      <td>The Mummies of Urumchi</td>\n",
              "      <td>E. J. W. Barber</td>\n",
              "      <td>1999</td>\n",
              "      <td>W. W. Norton &amp;amp; Company</td>\n",
              "      <td>http://images.amazon.com/images/P/0393045218.0...</td>\n",
              "      <td>http://images.amazon.com/images/P/0393045218.0...</td>\n",
              "      <td>http://images.amazon.com/images/P/0393045218.0...</td>\n",
              "    </tr>\n",
              "  </tbody>\n",
              "</table>\n",
              "</div>\n",
              "    <div class=\"colab-df-buttons\">\n",
              "\n",
              "  <div class=\"colab-df-container\">\n",
              "    <button class=\"colab-df-convert\" onclick=\"convertToInteractive('df-b90d4aff-e9ca-490e-b06f-21a3bff59030')\"\n",
              "            title=\"Convert this dataframe to an interactive table.\"\n",
              "            style=\"display:none;\">\n",
              "\n",
              "  <svg xmlns=\"http://www.w3.org/2000/svg\" height=\"24px\" viewBox=\"0 -960 960 960\">\n",
              "    <path d=\"M120-120v-720h720v720H120Zm60-500h600v-160H180v160Zm220 220h160v-160H400v160Zm0 220h160v-160H400v160ZM180-400h160v-160H180v160Zm440 0h160v-160H620v160ZM180-180h160v-160H180v160Zm440 0h160v-160H620v160Z\"/>\n",
              "  </svg>\n",
              "    </button>\n",
              "\n",
              "  <style>\n",
              "    .colab-df-container {\n",
              "      display:flex;\n",
              "      gap: 12px;\n",
              "    }\n",
              "\n",
              "    .colab-df-convert {\n",
              "      background-color: #E8F0FE;\n",
              "      border: none;\n",
              "      border-radius: 50%;\n",
              "      cursor: pointer;\n",
              "      display: none;\n",
              "      fill: #1967D2;\n",
              "      height: 32px;\n",
              "      padding: 0 0 0 0;\n",
              "      width: 32px;\n",
              "    }\n",
              "\n",
              "    .colab-df-convert:hover {\n",
              "      background-color: #E2EBFA;\n",
              "      box-shadow: 0px 1px 2px rgba(60, 64, 67, 0.3), 0px 1px 3px 1px rgba(60, 64, 67, 0.15);\n",
              "      fill: #174EA6;\n",
              "    }\n",
              "\n",
              "    .colab-df-buttons div {\n",
              "      margin-bottom: 4px;\n",
              "    }\n",
              "\n",
              "    [theme=dark] .colab-df-convert {\n",
              "      background-color: #3B4455;\n",
              "      fill: #D2E3FC;\n",
              "    }\n",
              "\n",
              "    [theme=dark] .colab-df-convert:hover {\n",
              "      background-color: #434B5C;\n",
              "      box-shadow: 0px 1px 3px 1px rgba(0, 0, 0, 0.15);\n",
              "      filter: drop-shadow(0px 1px 2px rgba(0, 0, 0, 0.3));\n",
              "      fill: #FFFFFF;\n",
              "    }\n",
              "  </style>\n",
              "\n",
              "    <script>\n",
              "      const buttonEl =\n",
              "        document.querySelector('#df-b90d4aff-e9ca-490e-b06f-21a3bff59030 button.colab-df-convert');\n",
              "      buttonEl.style.display =\n",
              "        google.colab.kernel.accessAllowed ? 'block' : 'none';\n",
              "\n",
              "      async function convertToInteractive(key) {\n",
              "        const element = document.querySelector('#df-b90d4aff-e9ca-490e-b06f-21a3bff59030');\n",
              "        const dataTable =\n",
              "          await google.colab.kernel.invokeFunction('convertToInteractive',\n",
              "                                                    [key], {});\n",
              "        if (!dataTable) return;\n",
              "\n",
              "        const docLinkHtml = 'Like what you see? Visit the ' +\n",
              "          '<a target=\"_blank\" href=https://colab.research.google.com/notebooks/data_table.ipynb>data table notebook</a>'\n",
              "          + ' to learn more about interactive tables.';\n",
              "        element.innerHTML = '';\n",
              "        dataTable['output_type'] = 'display_data';\n",
              "        await google.colab.output.renderOutput(dataTable, element);\n",
              "        const docLink = document.createElement('div');\n",
              "        docLink.innerHTML = docLinkHtml;\n",
              "        element.appendChild(docLink);\n",
              "      }\n",
              "    </script>\n",
              "  </div>\n",
              "\n",
              "\n",
              "<div id=\"df-900ce1b8-14f8-43a6-afb9-fd8469fedfed\">\n",
              "  <button class=\"colab-df-quickchart\" onclick=\"quickchart('df-900ce1b8-14f8-43a6-afb9-fd8469fedfed')\"\n",
              "            title=\"Suggest charts.\"\n",
              "            style=\"display:none;\">\n",
              "\n",
              "<svg xmlns=\"http://www.w3.org/2000/svg\" height=\"24px\"viewBox=\"0 0 24 24\"\n",
              "     width=\"24px\">\n",
              "    <g>\n",
              "        <path d=\"M19 3H5c-1.1 0-2 .9-2 2v14c0 1.1.9 2 2 2h14c1.1 0 2-.9 2-2V5c0-1.1-.9-2-2-2zM9 17H7v-7h2v7zm4 0h-2V7h2v10zm4 0h-2v-4h2v4z\"/>\n",
              "    </g>\n",
              "</svg>\n",
              "  </button>\n",
              "\n",
              "<style>\n",
              "  .colab-df-quickchart {\n",
              "    background-color: #E8F0FE;\n",
              "    border: none;\n",
              "    border-radius: 50%;\n",
              "    cursor: pointer;\n",
              "    display: none;\n",
              "    fill: #1967D2;\n",
              "    height: 32px;\n",
              "    padding: 0 0 0 0;\n",
              "    width: 32px;\n",
              "  }\n",
              "\n",
              "  .colab-df-quickchart:hover {\n",
              "    background-color: #E2EBFA;\n",
              "    box-shadow: 0px 1px 2px rgba(60, 64, 67, 0.3), 0px 1px 3px 1px rgba(60, 64, 67, 0.15);\n",
              "    fill: #174EA6;\n",
              "  }\n",
              "\n",
              "  [theme=dark] .colab-df-quickchart {\n",
              "    background-color: #3B4455;\n",
              "    fill: #D2E3FC;\n",
              "  }\n",
              "\n",
              "  [theme=dark] .colab-df-quickchart:hover {\n",
              "    background-color: #434B5C;\n",
              "    box-shadow: 0px 1px 3px 1px rgba(0, 0, 0, 0.15);\n",
              "    filter: drop-shadow(0px 1px 2px rgba(0, 0, 0, 0.3));\n",
              "    fill: #FFFFFF;\n",
              "  }\n",
              "</style>\n",
              "\n",
              "  <script>\n",
              "    async function quickchart(key) {\n",
              "      const charts = await google.colab.kernel.invokeFunction(\n",
              "          'suggestCharts', [key], {});\n",
              "    }\n",
              "    (() => {\n",
              "      let quickchartButtonEl =\n",
              "        document.querySelector('#df-900ce1b8-14f8-43a6-afb9-fd8469fedfed button');\n",
              "      quickchartButtonEl.style.display =\n",
              "        google.colab.kernel.accessAllowed ? 'block' : 'none';\n",
              "    })();\n",
              "  </script>\n",
              "</div>\n",
              "    </div>\n",
              "  </div>\n"
            ]
          },
          "metadata": {},
          "execution_count": 6
        }
      ]
    },
    {
      "cell_type": "code",
      "source": [
        "ratings.head()"
      ],
      "metadata": {
        "id": "HwBd4qRTbLrq",
        "colab": {
          "base_uri": "https://localhost:8080/",
          "height": 206
        },
        "outputId": "a9aa1175-cac8-434f-e758-b2e86b9e05d4"
      },
      "execution_count": 7,
      "outputs": [
        {
          "output_type": "execute_result",
          "data": {
            "text/plain": [
              "   User-ID        ISBN  Book-Rating\n",
              "0   276725  034545104X            0\n",
              "1   276726  0155061224            5\n",
              "2   276727  0446520802            0\n",
              "3   276729  052165615X            3\n",
              "4   276729  0521795028            6"
            ],
            "text/html": [
              "\n",
              "  <div id=\"df-7dd8bde9-ff9a-4603-9570-08c4878158f8\" class=\"colab-df-container\">\n",
              "    <div>\n",
              "<style scoped>\n",
              "    .dataframe tbody tr th:only-of-type {\n",
              "        vertical-align: middle;\n",
              "    }\n",
              "\n",
              "    .dataframe tbody tr th {\n",
              "        vertical-align: top;\n",
              "    }\n",
              "\n",
              "    .dataframe thead th {\n",
              "        text-align: right;\n",
              "    }\n",
              "</style>\n",
              "<table border=\"1\" class=\"dataframe\">\n",
              "  <thead>\n",
              "    <tr style=\"text-align: right;\">\n",
              "      <th></th>\n",
              "      <th>User-ID</th>\n",
              "      <th>ISBN</th>\n",
              "      <th>Book-Rating</th>\n",
              "    </tr>\n",
              "  </thead>\n",
              "  <tbody>\n",
              "    <tr>\n",
              "      <th>0</th>\n",
              "      <td>276725</td>\n",
              "      <td>034545104X</td>\n",
              "      <td>0</td>\n",
              "    </tr>\n",
              "    <tr>\n",
              "      <th>1</th>\n",
              "      <td>276726</td>\n",
              "      <td>0155061224</td>\n",
              "      <td>5</td>\n",
              "    </tr>\n",
              "    <tr>\n",
              "      <th>2</th>\n",
              "      <td>276727</td>\n",
              "      <td>0446520802</td>\n",
              "      <td>0</td>\n",
              "    </tr>\n",
              "    <tr>\n",
              "      <th>3</th>\n",
              "      <td>276729</td>\n",
              "      <td>052165615X</td>\n",
              "      <td>3</td>\n",
              "    </tr>\n",
              "    <tr>\n",
              "      <th>4</th>\n",
              "      <td>276729</td>\n",
              "      <td>0521795028</td>\n",
              "      <td>6</td>\n",
              "    </tr>\n",
              "  </tbody>\n",
              "</table>\n",
              "</div>\n",
              "    <div class=\"colab-df-buttons\">\n",
              "\n",
              "  <div class=\"colab-df-container\">\n",
              "    <button class=\"colab-df-convert\" onclick=\"convertToInteractive('df-7dd8bde9-ff9a-4603-9570-08c4878158f8')\"\n",
              "            title=\"Convert this dataframe to an interactive table.\"\n",
              "            style=\"display:none;\">\n",
              "\n",
              "  <svg xmlns=\"http://www.w3.org/2000/svg\" height=\"24px\" viewBox=\"0 -960 960 960\">\n",
              "    <path d=\"M120-120v-720h720v720H120Zm60-500h600v-160H180v160Zm220 220h160v-160H400v160Zm0 220h160v-160H400v160ZM180-400h160v-160H180v160Zm440 0h160v-160H620v160ZM180-180h160v-160H180v160Zm440 0h160v-160H620v160Z\"/>\n",
              "  </svg>\n",
              "    </button>\n",
              "\n",
              "  <style>\n",
              "    .colab-df-container {\n",
              "      display:flex;\n",
              "      gap: 12px;\n",
              "    }\n",
              "\n",
              "    .colab-df-convert {\n",
              "      background-color: #E8F0FE;\n",
              "      border: none;\n",
              "      border-radius: 50%;\n",
              "      cursor: pointer;\n",
              "      display: none;\n",
              "      fill: #1967D2;\n",
              "      height: 32px;\n",
              "      padding: 0 0 0 0;\n",
              "      width: 32px;\n",
              "    }\n",
              "\n",
              "    .colab-df-convert:hover {\n",
              "      background-color: #E2EBFA;\n",
              "      box-shadow: 0px 1px 2px rgba(60, 64, 67, 0.3), 0px 1px 3px 1px rgba(60, 64, 67, 0.15);\n",
              "      fill: #174EA6;\n",
              "    }\n",
              "\n",
              "    .colab-df-buttons div {\n",
              "      margin-bottom: 4px;\n",
              "    }\n",
              "\n",
              "    [theme=dark] .colab-df-convert {\n",
              "      background-color: #3B4455;\n",
              "      fill: #D2E3FC;\n",
              "    }\n",
              "\n",
              "    [theme=dark] .colab-df-convert:hover {\n",
              "      background-color: #434B5C;\n",
              "      box-shadow: 0px 1px 3px 1px rgba(0, 0, 0, 0.15);\n",
              "      filter: drop-shadow(0px 1px 2px rgba(0, 0, 0, 0.3));\n",
              "      fill: #FFFFFF;\n",
              "    }\n",
              "  </style>\n",
              "\n",
              "    <script>\n",
              "      const buttonEl =\n",
              "        document.querySelector('#df-7dd8bde9-ff9a-4603-9570-08c4878158f8 button.colab-df-convert');\n",
              "      buttonEl.style.display =\n",
              "        google.colab.kernel.accessAllowed ? 'block' : 'none';\n",
              "\n",
              "      async function convertToInteractive(key) {\n",
              "        const element = document.querySelector('#df-7dd8bde9-ff9a-4603-9570-08c4878158f8');\n",
              "        const dataTable =\n",
              "          await google.colab.kernel.invokeFunction('convertToInteractive',\n",
              "                                                    [key], {});\n",
              "        if (!dataTable) return;\n",
              "\n",
              "        const docLinkHtml = 'Like what you see? Visit the ' +\n",
              "          '<a target=\"_blank\" href=https://colab.research.google.com/notebooks/data_table.ipynb>data table notebook</a>'\n",
              "          + ' to learn more about interactive tables.';\n",
              "        element.innerHTML = '';\n",
              "        dataTable['output_type'] = 'display_data';\n",
              "        await google.colab.output.renderOutput(dataTable, element);\n",
              "        const docLink = document.createElement('div');\n",
              "        docLink.innerHTML = docLinkHtml;\n",
              "        element.appendChild(docLink);\n",
              "      }\n",
              "    </script>\n",
              "  </div>\n",
              "\n",
              "\n",
              "<div id=\"df-c6c9bd50-70ca-4599-8044-6dfc2dcf6069\">\n",
              "  <button class=\"colab-df-quickchart\" onclick=\"quickchart('df-c6c9bd50-70ca-4599-8044-6dfc2dcf6069')\"\n",
              "            title=\"Suggest charts.\"\n",
              "            style=\"display:none;\">\n",
              "\n",
              "<svg xmlns=\"http://www.w3.org/2000/svg\" height=\"24px\"viewBox=\"0 0 24 24\"\n",
              "     width=\"24px\">\n",
              "    <g>\n",
              "        <path d=\"M19 3H5c-1.1 0-2 .9-2 2v14c0 1.1.9 2 2 2h14c1.1 0 2-.9 2-2V5c0-1.1-.9-2-2-2zM9 17H7v-7h2v7zm4 0h-2V7h2v10zm4 0h-2v-4h2v4z\"/>\n",
              "    </g>\n",
              "</svg>\n",
              "  </button>\n",
              "\n",
              "<style>\n",
              "  .colab-df-quickchart {\n",
              "    background-color: #E8F0FE;\n",
              "    border: none;\n",
              "    border-radius: 50%;\n",
              "    cursor: pointer;\n",
              "    display: none;\n",
              "    fill: #1967D2;\n",
              "    height: 32px;\n",
              "    padding: 0 0 0 0;\n",
              "    width: 32px;\n",
              "  }\n",
              "\n",
              "  .colab-df-quickchart:hover {\n",
              "    background-color: #E2EBFA;\n",
              "    box-shadow: 0px 1px 2px rgba(60, 64, 67, 0.3), 0px 1px 3px 1px rgba(60, 64, 67, 0.15);\n",
              "    fill: #174EA6;\n",
              "  }\n",
              "\n",
              "  [theme=dark] .colab-df-quickchart {\n",
              "    background-color: #3B4455;\n",
              "    fill: #D2E3FC;\n",
              "  }\n",
              "\n",
              "  [theme=dark] .colab-df-quickchart:hover {\n",
              "    background-color: #434B5C;\n",
              "    box-shadow: 0px 1px 3px 1px rgba(0, 0, 0, 0.15);\n",
              "    filter: drop-shadow(0px 1px 2px rgba(0, 0, 0, 0.3));\n",
              "    fill: #FFFFFF;\n",
              "  }\n",
              "</style>\n",
              "\n",
              "  <script>\n",
              "    async function quickchart(key) {\n",
              "      const charts = await google.colab.kernel.invokeFunction(\n",
              "          'suggestCharts', [key], {});\n",
              "    }\n",
              "    (() => {\n",
              "      let quickchartButtonEl =\n",
              "        document.querySelector('#df-c6c9bd50-70ca-4599-8044-6dfc2dcf6069 button');\n",
              "      quickchartButtonEl.style.display =\n",
              "        google.colab.kernel.accessAllowed ? 'block' : 'none';\n",
              "    })();\n",
              "  </script>\n",
              "</div>\n",
              "    </div>\n",
              "  </div>\n"
            ]
          },
          "metadata": {},
          "execution_count": 7
        }
      ]
    },
    {
      "cell_type": "code",
      "source": [
        "print(\"  Users: {} \\n  Books: {}\\n  Ratings: {}\".format(len(users), len(books), len(ratings)))\n"
      ],
      "metadata": {
        "colab": {
          "base_uri": "https://localhost:8080/"
        },
        "id": "otyfiUUlbRhj",
        "outputId": "b100c199-874a-488e-c995-f7a2b815c6c6"
      },
      "execution_count": 8,
      "outputs": [
        {
          "output_type": "stream",
          "name": "stdout",
          "text": [
            "  Users: 278858 \n",
            "  Books: 271360\n",
            "  Ratings: 1149780\n"
          ]
        }
      ]
    },
    {
      "cell_type": "code",
      "source": [
        "users.columns = users.columns.str.lower().str.replace('-', '_')\n",
        "books.columns = books.columns.str.lower().str.replace('-', '_')\n",
        "ratings.columns = ratings.columns.str.lower().str.replace('-', '_')"
      ],
      "metadata": {
        "id": "SAjQpxQpbXFh"
      },
      "execution_count": null,
      "outputs": []
    },
    {
      "cell_type": "markdown",
      "source": [
        "### 2.1. Data de usuarios"
      ],
      "metadata": {
        "id": "zb9J_YnLbzf5"
      }
    },
    {
      "cell_type": "code",
      "source": [
        "users.head()"
      ],
      "metadata": {
        "id": "g8Iium9Mbf9P"
      },
      "execution_count": null,
      "outputs": []
    },
    {
      "cell_type": "code",
      "source": [
        "users[\"age\"].describe()"
      ],
      "metadata": {
        "id": "sRZDivNGbkif"
      },
      "execution_count": null,
      "outputs": []
    },
    {
      "cell_type": "code",
      "source": [
        "IQR = np.nanpercentile(users['age'], 75) - np.nanpercentile(users['age'], 25)\n",
        "IQR"
      ],
      "metadata": {
        "colab": {
          "base_uri": "https://localhost:8080/"
        },
        "id": "ycM93PvwjIno",
        "outputId": "4f9c71a3-aecd-4b15-f0a9-7860e82065e5"
      },
      "execution_count": null,
      "outputs": [
        {
          "output_type": "execute_result",
          "data": {
            "text/plain": [
              "20.0"
            ]
          },
          "metadata": {},
          "execution_count": 73
        }
      ]
    },
    {
      "cell_type": "code",
      "source": [
        "# Ejemplo de remoción de outliers\n",
        "IQR = np.nanpercentile(users['age'], 75) - np.nanpercentile(users['age'], 25)\n",
        "lower_threshold = np.nanpercentile(users['age'], 50) - 1.5*IQR\n",
        "upper_threshold = np.nanpercentile(users['age'], 50) + 1.5*IQR\n",
        "\n",
        "users = users[(users['age'] > lower_threshold) & (users['age'] < upper_threshold)]"
      ],
      "metadata": {
        "id": "TyeJrEKmhuVZ"
      },
      "execution_count": null,
      "outputs": []
    },
    {
      "cell_type": "code",
      "source": [
        "# Establecer el estilo de Seaborn (opcional)\n",
        "sns.set(style=\"whitegrid\")\n",
        "\n",
        "# Crear el gráfico de barras\n",
        "plt.figure(figsize=(12, 5))  # Ajusta el tamaño de la figura si es necesario\n",
        "ax = sns.countplot(data=users, x='age', color='lightblue')\n",
        "\n",
        "# Personalizar el eje x\n",
        "ax.set_xticklabels(ax.get_xticklabels(), rotation=90, ha='right')\n",
        "\n",
        "# Ajustar el tamaño de fuente de las etiquetas del eje x\n",
        "ax.tick_params(axis='x', labelsize=8)\n",
        "\n",
        "# Agregar etiquetas y título\n",
        "plt.xlabel('Edad', fontsize=12)\n",
        "plt.ylabel('Cantidad', fontsize=12)\n",
        "plt.title('Distribución de Edad de usuarios', fontsize=14)\n",
        "\n",
        "# Mostrar el gráfico\n",
        "plt.tight_layout()\n",
        "plt.show()\n"
      ],
      "metadata": {
        "id": "baUeTzBGhBpW"
      },
      "execution_count": null,
      "outputs": []
    },
    {
      "cell_type": "markdown",
      "source": [
        "### 2.2. Data de libros"
      ],
      "metadata": {
        "id": "TDnRZ9Ywb293"
      }
    },
    {
      "cell_type": "code",
      "source": [
        "#dropping the image columns\n",
        "books.drop(columns=['image_url_s', 'image_url_m', 'image_url_l'], inplace=True) # drop image-url columns"
      ],
      "metadata": {
        "id": "k5dXwLmkbxOK"
      },
      "execution_count": null,
      "outputs": []
    },
    {
      "cell_type": "code",
      "source": [
        "books.head()"
      ],
      "metadata": {
        "id": "PG-p7FrPb5Y_"
      },
      "execution_count": null,
      "outputs": []
    },
    {
      "cell_type": "code",
      "source": [
        "#converting years of publication to integer\n",
        "books.year_of_publication = pd.to_numeric(books.year_of_publication, errors='coerce')"
      ],
      "metadata": {
        "id": "_9mNTy_HcHfo"
      },
      "execution_count": null,
      "outputs": []
    },
    {
      "cell_type": "code",
      "source": [
        "#replacing all years of publication that are 0 with NaN\n",
        "books.year_of_publication.replace(0, np.nan, inplace=True)"
      ],
      "metadata": {
        "id": "KzSkM9opcNGA"
      },
      "execution_count": null,
      "outputs": []
    },
    {
      "cell_type": "code",
      "source": [
        "# Ejemplo de remoción de outliers\n",
        "lower_threshold = 1964\n",
        "upper_threshold = 2004\n",
        "\n",
        "books = books[(books['year_of_publication'] > lower_threshold) & (books['year_of_publication'] < upper_threshold)]\n",
        "books.year_of_publication = books.year_of_publication.astype(int)"
      ],
      "metadata": {
        "id": "WS0O9ZSVkNaC"
      },
      "execution_count": null,
      "outputs": []
    },
    {
      "cell_type": "code",
      "source": [
        "# Establecer el estilo de Seaborn (opcional)\n",
        "sns.set(style=\"whitegrid\")\n",
        "\n",
        "# Crear el gráfico de barras\n",
        "plt.figure(figsize=(12, 5))  # Ajusta el tamaño de la figura si es necesario\n",
        "ax = sns.countplot(data=books, x='year_of_publication', color='lightblue')\n",
        "\n",
        "# Personalizar el eje x\n",
        "ax.set_xticklabels(ax.get_xticklabels(), rotation=90, ha='right')\n",
        "\n",
        "# Ajustar el tamaño de fuente de las etiquetas del eje x\n",
        "ax.tick_params(axis='x', labelsize=8)\n",
        "\n",
        "# Agregar etiquetas y título\n",
        "plt.xlabel('Año de Publicación', fontsize=12)\n",
        "plt.ylabel('Cantidad', fontsize=12)\n",
        "plt.title('Distribución de Años de Publicación de Libros', fontsize=14)\n",
        "\n",
        "# Mostrar el gráfico\n",
        "plt.tight_layout()\n",
        "plt.show()\n"
      ],
      "metadata": {
        "id": "VOpO70HgcRTA"
      },
      "execution_count": null,
      "outputs": []
    },
    {
      "cell_type": "code",
      "source": [
        "#correcting publisher names and assigning the name 'Other' to those with missing publisher names\n",
        "books.publisher= books.publisher.str.replace('&amp;', '&', regex=False)"
      ],
      "metadata": {
        "id": "KP9wZFk3lPzE"
      },
      "execution_count": null,
      "outputs": []
    },
    {
      "cell_type": "code",
      "source": [
        "books.publisher.replace(np.nan,'Other', inplace = True)"
      ],
      "metadata": {
        "id": "yfghIPRilWCj"
      },
      "execution_count": null,
      "outputs": []
    },
    {
      "cell_type": "code",
      "source": [
        "#replacing the NaN in for book_author with Unknown\n",
        "books.book_author.replace(np.nan,\"Unknown\", inplace=True)"
      ],
      "metadata": {
        "id": "v2HdO_UTlcb8"
      },
      "execution_count": null,
      "outputs": []
    },
    {
      "cell_type": "code",
      "source": [
        "#dropping the rows with NaN year of publication\n",
        "books = books.dropna(how='any', axis = 0)"
      ],
      "metadata": {
        "id": "E1jYOIJUlhN3"
      },
      "execution_count": null,
      "outputs": []
    },
    {
      "cell_type": "markdown",
      "source": [
        "### 2.3. Data de Ratings"
      ],
      "metadata": {
        "id": "3yYTFUhIllKs"
      }
    },
    {
      "cell_type": "code",
      "source": [
        "ratings.head()"
      ],
      "metadata": {
        "id": "n0VNOIAPlj3x"
      },
      "execution_count": null,
      "outputs": []
    },
    {
      "cell_type": "code",
      "source": [
        "#removing the rows with an implicit book_rating of 0\n",
        "ratings = ratings[ratings.book_rating!=0]"
      ],
      "metadata": {
        "id": "RatmsX-kv77B"
      },
      "execution_count": null,
      "outputs": []
    },
    {
      "cell_type": "code",
      "source": [
        "# Establecer el estilo de Seaborn (opcional)\n",
        "sns.set(style=\"whitegrid\")\n",
        "\n",
        "# Crear el gráfico de barras\n",
        "plt.figure(figsize=(12, 5))  # Ajusta el tamaño de la figura si es necesario\n",
        "ax = sns.countplot(data=ratings, x='book_rating', color='lightblue')\n",
        "\n",
        "# Personalizar el eje x\n",
        "ax.set_xticklabels(ax.get_xticklabels(), rotation=90, ha='right')\n",
        "\n",
        "# Ajustar el tamaño de fuente de las etiquetas del eje x\n",
        "ax.tick_params(axis='x', labelsize=8)\n",
        "\n",
        "# Agregar etiquetas y título\n",
        "plt.xlabel('Rating del libro', fontsize=12)\n",
        "plt.ylabel('Cantidad', fontsize=12)\n",
        "plt.title('Distribución de Rating de libros', fontsize=14)\n",
        "\n",
        "# Mostrar el gráfico\n",
        "plt.tight_layout()\n",
        "plt.show()\n"
      ],
      "metadata": {
        "id": "o1EbHOBMwCxI"
      },
      "execution_count": null,
      "outputs": []
    },
    {
      "cell_type": "markdown",
      "source": [
        "### 2.4. Unificando data"
      ],
      "metadata": {
        "id": "G1CxcTN4yqwb"
      }
    },
    {
      "cell_type": "code",
      "source": [
        "df_unified = pd.merge(users[['user_id', 'age']], ratings, on = 'user_id', how = 'inner')\n",
        "df_unified = pd.merge(df_unified, books[['isbn', 'book_title']], on = 'isbn', how = 'inner')\n",
        "\n",
        "df_unified.head()"
      ],
      "metadata": {
        "id": "XvYqhY9uxUob"
      },
      "execution_count": null,
      "outputs": []
    },
    {
      "cell_type": "code",
      "source": [
        "df_unified.loc[df_unified.user_id ==  387]"
      ],
      "metadata": {
        "id": "TNIlnZ4fyykd"
      },
      "execution_count": null,
      "outputs": []
    },
    {
      "cell_type": "markdown",
      "source": [
        "# 3. Most-popular-item Recommender"
      ],
      "metadata": {
        "id": "DICPhTTwzow5"
      }
    },
    {
      "cell_type": "markdown",
      "source": [
        "Se basa en la popularidad de los elementos para hacer recomendaciones a los usuarios. En lugar de utilizar algoritmos complicados para analizar las preferencias individuales de los usuarios, este tipo de sistema simplemente recomienda los elementos que son más populares.\n",
        "\n",
        "La lógica detrás de un Most-Popular-Item Recommender es bastante simple: si un artículo es popular y ha sido apreciado por muchas personas, es más probable que sea del agrado de nuevos usuarios también. Este enfoque es especialmente útil cuando no se dispone de suficiente información sobre los usuarios y sus preferencias.\n",
        "\n"
      ],
      "metadata": {
        "id": "jA2cry930BI8"
      }
    },
    {
      "cell_type": "markdown",
      "source": [
        "Ventajas de un Most-Popular-Item Recommender:\n",
        "\n",
        "* <b>Simplicidad:</b> Es fácil de implementar y no requiere algoritmos complejos.\n",
        "\n",
        "* <b>Efectividad inicial:</b> Puede funcionar bien en situaciones donde hay poca información sobre los usuarios.\n",
        "\n",
        "* <b>Escalabilidad:</b> Puede manejar grandes conjuntos de datos sin problemas.\n",
        "\n"
      ],
      "metadata": {
        "id": "P0ZUGVT10hRv"
      }
    },
    {
      "cell_type": "markdown",
      "source": [
        "Desventajas de un Most-Popular-Item Recommender:\n",
        "\n",
        "* <b>Falta de personalización:</b> No tiene en cuenta las preferencias individuales de los usuarios, lo que puede llevar a recomendaciones no relevantes.\n",
        "\n",
        "* <b>Burbuja de filtro:</b> Puede llevar a una sobrerrepresentación de elementos populares y no descubrir nuevos elementos.\n",
        "\n",
        "* <b>No considera cambios en el tiempo:</b> No tiene en cuenta las tendencias cambiantes o los gustos cambiantes de los usuarios.\n",
        "---"
      ],
      "metadata": {
        "id": "JO3FvA2i0kbU"
      }
    },
    {
      "cell_type": "markdown",
      "source": [
        "### 3.1. Muestreo de datos\n"
      ],
      "metadata": {
        "id": "bLnuujb03PLK"
      }
    },
    {
      "cell_type": "markdown",
      "source": [
        "El conjunto de datos en machine learning se divide típicamente en dos partes: el conjunto de entrenamiento (train) y el conjunto de prueba (test). Estas divisiones se utilizan para entrenar y evaluar los modelos.\n",
        "\n"
      ],
      "metadata": {
        "id": "p9u9Dlki3a4j"
      }
    },
    {
      "cell_type": "markdown",
      "source": [
        "<b>Train:</b> El conjunto de entrenamiento se utiliza para entrenar el modelo de machine learning. Es aquí donde el modelo \"aprende\" los patrones y relaciones en los datos para poder hacer predicciones o clasificaciones.\n",
        "\n",
        "<b>Test:</b> El conjunto de prueba se utiliza para evaluar el rendimiento del modelo en datos no vistos durante el entrenamiento. Es una medida objetiva de la capacidad del modelo para generalizar y realizar predicciones precisas en nuevos datos."
      ],
      "metadata": {
        "id": "HE3AgDZv4XI7"
      }
    },
    {
      "cell_type": "code",
      "source": [
        "# Muestreo\n",
        "#La función train_test_split de scikit-learn se utiliza para dividir un conjunto de datos en subconjuntos de train y test.\n",
        "from sklearn.model_selection import train_test_split\n",
        "\n",
        "train, test = train_test_split(df_unified, # Base de datos\n",
        "                               train_size = 0.7, # Especificar el tamaño de train/test\n",
        "                               random_state = 123) # Semilla aleatoria\n"
      ],
      "metadata": {
        "id": "CfEUdCO63ao2"
      },
      "execution_count": null,
      "outputs": []
    },
    {
      "cell_type": "code",
      "source": [
        "train.head()"
      ],
      "metadata": {
        "id": "10qvlUj70gnk"
      },
      "execution_count": null,
      "outputs": []
    },
    {
      "cell_type": "markdown",
      "source": [
        "### 3.2. Most Popular Items recommender: No Personalizada\n"
      ],
      "metadata": {
        "id": "1KJ-59_e4ull"
      }
    },
    {
      "cell_type": "code",
      "source": [
        "most_popular = train.groupby('book_title')[['isbn']].count().reset_index()\n",
        "most_popular.rename(columns = {'isbn' : 'popularity'}, inplace = True)\n",
        "most_popular.sort_values(by = 'popularity', ascending = False, inplace = True)\n",
        "most_popular.head()"
      ],
      "metadata": {
        "id": "oRXTY3Xm1_t3"
      },
      "execution_count": null,
      "outputs": []
    },
    {
      "cell_type": "code",
      "source": [
        "# Aplicando recomendaciones\n",
        "\n",
        "test['rec_1'] = 'The Lovely Bones: A Novel'\n",
        "test['rec_2'] = 'The Da Vinci Code'\n",
        "test['rec_3'] = 'Harry Potter and the Chamber of Secrets (Book 2)'\n"
      ],
      "metadata": {
        "id": "FZbBhO375xSc"
      },
      "execution_count": null,
      "outputs": []
    },
    {
      "cell_type": "markdown",
      "source": [
        "Veamos la calidad de la recomendación"
      ],
      "metadata": {
        "id": "PCQinPey0eFv"
      }
    },
    {
      "cell_type": "code",
      "source": [
        "test.head()"
      ],
      "metadata": {
        "id": "hpYZxMBV0AfX"
      },
      "execution_count": null,
      "outputs": []
    },
    {
      "cell_type": "markdown",
      "source": [
        "Ratios de conversión"
      ],
      "metadata": {
        "id": "53nVsaug9ktK"
      }
    },
    {
      "cell_type": "code",
      "source": [
        "len(test[test.book_title == test.rec_1])/len(test.user_id.drop_duplicates())"
      ],
      "metadata": {
        "id": "LhUlC4sr804U"
      },
      "execution_count": null,
      "outputs": []
    },
    {
      "cell_type": "code",
      "source": [
        "len(test[test.book_title == test.rec_2])/len(test.user_id.drop_duplicates())"
      ],
      "metadata": {
        "id": "_hFYRpHe9Kyb"
      },
      "execution_count": null,
      "outputs": []
    },
    {
      "cell_type": "code",
      "source": [
        "len(test[test.book_title == test.rec_3])/len(test.user_id.drop_duplicates())"
      ],
      "metadata": {
        "id": "UU7hT1Nc9MnD"
      },
      "execution_count": null,
      "outputs": []
    },
    {
      "cell_type": "markdown",
      "source": [
        "Afinidad de la recomendación"
      ],
      "metadata": {
        "id": "4lhDfak19osM"
      }
    },
    {
      "cell_type": "code",
      "source": [
        "test[test.book_title == test.rec_1].book_rating.mean()"
      ],
      "metadata": {
        "id": "IFnz8rjZ9sD6"
      },
      "execution_count": null,
      "outputs": []
    },
    {
      "cell_type": "code",
      "source": [
        "test[test.book_title == test.rec_2].book_rating.mean()"
      ],
      "metadata": {
        "id": "aPfD-jg_93Kz"
      },
      "execution_count": null,
      "outputs": []
    },
    {
      "cell_type": "code",
      "source": [
        "test[test.book_title == test.rec_3].book_rating.mean()"
      ],
      "metadata": {
        "id": "iihvzsKp943m"
      },
      "execution_count": null,
      "outputs": []
    },
    {
      "cell_type": "markdown",
      "source": [
        "### 3.2. Most Popular Items recommender: Semi-Personalizada\n"
      ],
      "metadata": {
        "id": "VRS4JrcW-Kgp"
      }
    },
    {
      "cell_type": "code",
      "source": [
        "# Discretizar variables\n",
        "from sklearn.preprocessing import KBinsDiscretizer\n",
        "\n",
        "discretizer = KBinsDiscretizer(n_bins = 3,\n",
        "                               encode = 'ordinal',\n",
        "                               strategy = \"uniform\").fit(np.array(train['age']).reshape(-1, 1))\n"
      ],
      "metadata": {
        "id": "5119xxQE-iRZ"
      },
      "execution_count": null,
      "outputs": []
    },
    {
      "cell_type": "code",
      "source": [
        "train['age' + '_rango'] = discretizer.transform(np.array(train['age']).reshape(-1, 1))\n"
      ],
      "metadata": {
        "id": "Amx0txUn_Lvd"
      },
      "execution_count": null,
      "outputs": []
    },
    {
      "cell_type": "code",
      "source": [
        "most_popular = train.groupby(['book_title', 'age_rango'])[['isbn']].count().reset_index()\n",
        "most_popular.rename(columns = {'isbn' : 'popularity'}, inplace = True)\n",
        "most_popular.sort_values(by = 'popularity', ascending = False, inplace = True)\n",
        "\n",
        "#pd.set_option('display.max_colwidth', None)\n",
        "most_popular[most_popular.age_rango == 0].head(3)"
      ],
      "metadata": {
        "id": "qz2UrG3F-eF1"
      },
      "execution_count": null,
      "outputs": []
    },
    {
      "cell_type": "code",
      "source": [
        "most_popular[most_popular.age_rango == 1].head(3)"
      ],
      "metadata": {
        "id": "wI5KveIu_0tt"
      },
      "execution_count": null,
      "outputs": []
    },
    {
      "cell_type": "code",
      "source": [
        "most_popular[most_popular.age_rango == 2].head(3)"
      ],
      "metadata": {
        "id": "NU8n5Nxj_20p"
      },
      "execution_count": null,
      "outputs": []
    },
    {
      "cell_type": "markdown",
      "source": [
        "Veamos la calidad de la recomendación"
      ],
      "metadata": {
        "id": "OSy-80owAP28"
      }
    },
    {
      "cell_type": "code",
      "source": [
        "test['age' + '_rango'] = discretizer.transform(np.array(test['age']).reshape(-1, 1))"
      ],
      "metadata": {
        "id": "_h1_xzJ3ApOr"
      },
      "execution_count": null,
      "outputs": []
    },
    {
      "cell_type": "code",
      "source": [
        "# Aplicando recomendaciones\n",
        "\n",
        "def recommendation_1(age_range):\n",
        "  if age_range == 0:\n",
        "    return \"Harry Potter and the Sorcerer's Stone (Harry Potter (Paperback))\"\n",
        "  elif age_range == 1:\n",
        "    return \"The Lovely Bones: A Novel\"\n",
        "  elif age_range == 2:\n",
        "    return \"The Da Vinci Code\"\n",
        "\n",
        "\n",
        "test['rec_1'] = test.age_rango.apply(lambda x: recommendation_1(x))"
      ],
      "metadata": {
        "id": "-xlfZWWEAQrr"
      },
      "execution_count": null,
      "outputs": []
    },
    {
      "cell_type": "markdown",
      "source": [
        "Ratios de conversión"
      ],
      "metadata": {
        "id": "Q7stSu3VB6TP"
      }
    },
    {
      "cell_type": "code",
      "source": [
        "len(test[test.book_title == test.rec_1])/len(test.user_id.drop_duplicates())"
      ],
      "metadata": {
        "id": "3gTiE7SlB124"
      },
      "execution_count": null,
      "outputs": []
    },
    {
      "cell_type": "markdown",
      "source": [
        "Afinidad de la recomendación"
      ],
      "metadata": {
        "id": "rXHG_w40CAkl"
      }
    },
    {
      "cell_type": "code",
      "source": [
        "test[test.book_title == test.rec_1].book_rating.mean()"
      ],
      "metadata": {
        "id": "pHI6gU3NCE1f"
      },
      "execution_count": null,
      "outputs": []
    },
    {
      "cell_type": "code",
      "source": [
        "# Aplicando segunda recomendacion\n",
        "\n",
        "def recommendation_2(age_range):\n",
        "  if age_range == 0:\n",
        "    return \"The Catcher in the Rye\"\n",
        "  elif age_range == 1:\n",
        "    return \"The Da Vinci Code\"\n",
        "  elif age_range == 2:\n",
        "    return \"The Lovely Bones: A Novel\"\n",
        "\n",
        "\n",
        "test['rec_2'] = test.age_rango.apply(lambda x: recommendation_2(x))"
      ],
      "metadata": {
        "id": "G_laZZtwC1s8"
      },
      "execution_count": null,
      "outputs": []
    },
    {
      "cell_type": "code",
      "source": [
        "len(test[test.book_title == test.rec_2])/len(test.user_id.drop_duplicates())"
      ],
      "metadata": {
        "id": "96ZADgA1DNDX"
      },
      "execution_count": null,
      "outputs": []
    },
    {
      "cell_type": "code",
      "source": [
        "test[test.book_title == test.rec_2].book_rating.mean()"
      ],
      "metadata": {
        "id": "87PeLchYDPIK"
      },
      "execution_count": null,
      "outputs": []
    },
    {
      "cell_type": "markdown",
      "source": [
        "### 3.3. Most Acepted Items recommender: No Personalizada"
      ],
      "metadata": {
        "id": "tDtw74X6DkR-"
      }
    },
    {
      "cell_type": "code",
      "source": [
        "# Muestreo\n",
        "train, test = train_test_split(df_unified, # Base de datos\n",
        "                               train_size = 0.7, # Especificar el tamaño de train/test\n",
        "                               random_state = 123) # Semilla aleatoria\n"
      ],
      "metadata": {
        "id": "nM_N0VxND6Rl"
      },
      "execution_count": null,
      "outputs": []
    },
    {
      "cell_type": "code",
      "source": [
        "most_popular = train.groupby('book_title').aggregate({'book_rating' : 'mean', 'user_id' : 'count'}).reset_index()\n",
        "most_popular.rename(columns = {'book_rating' : 'popularity', 'user_id': 'mat'}, inplace = True)\n",
        "most_popular.sort_values(by = 'popularity', ascending = False, inplace = True)\n",
        "most_popular[most_popular.mat > 100].head()"
      ],
      "metadata": {
        "id": "4kQrLZzXDkCx"
      },
      "execution_count": null,
      "outputs": []
    },
    {
      "cell_type": "code",
      "source": [
        "# Aplicando recomendaciones\n",
        "\n",
        "test['rec_1'] = 'Harry Potter and the Goblet of Fire (Book 4)'\n",
        "test['rec_2'] = 'Harry Potter and the Prisoner of Azkaban (Book 3)'\n",
        "test['rec_3'] = 'Harry Potter and the Order of the Phoenix (Book 5)'\n"
      ],
      "metadata": {
        "id": "koJ743IoFnXF"
      },
      "execution_count": null,
      "outputs": []
    },
    {
      "cell_type": "markdown",
      "source": [
        "Veamos la calidad de la recomendación"
      ],
      "metadata": {
        "id": "i8uzuAO2Fwid"
      }
    },
    {
      "cell_type": "code",
      "source": [
        "test.head()"
      ],
      "metadata": {
        "id": "cZ7NCn7AFwid"
      },
      "execution_count": null,
      "outputs": []
    },
    {
      "cell_type": "markdown",
      "source": [
        "Ratios de conversión"
      ],
      "metadata": {
        "id": "g0Rh3NwKFwie"
      }
    },
    {
      "cell_type": "code",
      "source": [
        "len(test[test.book_title == test.rec_1])/len(test.user_id.drop_duplicates())"
      ],
      "metadata": {
        "id": "eHEktLJ1Fwie"
      },
      "execution_count": null,
      "outputs": []
    },
    {
      "cell_type": "code",
      "source": [
        "len(test[test.book_title == test.rec_2])/len(test.user_id.drop_duplicates())"
      ],
      "metadata": {
        "id": "B2lidJdlFwie"
      },
      "execution_count": null,
      "outputs": []
    },
    {
      "cell_type": "code",
      "source": [
        "len(test[test.book_title == test.rec_3])/len(test.user_id.drop_duplicates())"
      ],
      "metadata": {
        "id": "EbW5iRqLFwie"
      },
      "execution_count": null,
      "outputs": []
    },
    {
      "cell_type": "markdown",
      "source": [
        "Afinidad de la recomendación"
      ],
      "metadata": {
        "id": "9rfAB_u0Fwif"
      }
    },
    {
      "cell_type": "code",
      "source": [
        "test[test.book_title == test.rec_1].book_rating.mean()"
      ],
      "metadata": {
        "id": "SNaRyb4QFwif"
      },
      "execution_count": null,
      "outputs": []
    },
    {
      "cell_type": "code",
      "source": [
        "test[test.book_title == test.rec_2].book_rating.mean()"
      ],
      "metadata": {
        "id": "l415V7TRFwif"
      },
      "execution_count": null,
      "outputs": []
    },
    {
      "cell_type": "code",
      "source": [
        "test[test.book_title == test.rec_3].book_rating.mean()"
      ],
      "metadata": {
        "id": "4dzxEC1VFwif"
      },
      "execution_count": null,
      "outputs": []
    },
    {
      "cell_type": "markdown",
      "source": [
        "---\n",
        "## Gracias por completar este laboratorio!"
      ],
      "metadata": {
        "id": "Ou7U5hlgp5nz"
      }
    }
  ]
}